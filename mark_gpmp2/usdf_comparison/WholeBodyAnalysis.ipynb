{
 "cells": [
  {
   "cell_type": "code",
   "execution_count": 1,
   "metadata": {},
   "outputs": [],
   "source": [
    "%matplotlib notebook\n",
    "import pandas as pd\n",
    "import numpy as np\n",
    "import matplotlib.pyplot as plt\n",
    "import matplotlib"
   ]
  },
  {
   "cell_type": "code",
   "execution_count": 9,
   "metadata": {},
   "outputs": [],
   "source": [
    "# filename = '/home/mark/installs/gpmp2/mark_gpmp2/usdf_comparison/whole_body_results.csv'\n",
    "filename = '/home/mark/installs/gpmp2/mark_gpmp2/usdf_comparison/whole_body_results_lambda0_01.csv'"
   ]
  },
  {
   "cell_type": "code",
   "execution_count": 10,
   "metadata": {
    "scrolled": true
   },
   "outputs": [],
   "source": [
    "df = pd.read_csv(filename,\n",
    "                 header=None,\n",
    "                 names=['Config', 'Environment', 'USDF_SDF', 'Cost', 'NumCollisions', 'Iterations'])\n",
    "\n",
    "# Check whether trajectory is collision-free\n",
    "df['CollisionFree'] = (df['NumCollisions']==0).astype(int)\n",
    "\n",
    "\n",
    "sdf_df = df[df['USDF_SDF'] == 1]\n",
    "sdf_df = sdf_df[['Cost', 'NumCollisions', 'Iterations', 'CollisionFree']]\n",
    "sdf_df = sdf_df.rename(columns={\"Cost\": \"SDF_Cost\", \n",
    "                                \"NumCollisions\": \"SDF_NumCollisions\", \n",
    "                                \"Iterations\": \"SDF_Iterations\",\n",
    "                                \"CollisionFree\": \"SDF_CollisionFree\"})\n",
    "\n",
    "usdf_df = df[df['USDF_SDF'] == 0]\n",
    "usdf_df.index = usdf_df.index + 1\n",
    "usdf_df = usdf_df[['Cost', 'NumCollisions', 'Iterations', 'CollisionFree']]\n",
    "usdf_df = usdf_df.rename(columns={\"Cost\": \"USDF_Cost\", \n",
    "                                  \"NumCollisions\": \"USDF_NumCollisions\", \n",
    "                                  \"Iterations\": \"USDF_Iterations\",\n",
    "                                  \"CollisionFree\": \"USDF_CollisionFree\"})"
   ]
  },
  {
   "cell_type": "code",
   "execution_count": 11,
   "metadata": {},
   "outputs": [],
   "source": [
    "merged_df = sdf_df.join(usdf_df, lsuffix='_caller', rsuffix='_other')"
   ]
  },
  {
   "cell_type": "code",
   "execution_count": 12,
   "metadata": {},
   "outputs": [],
   "source": [
    "merged_df['SDF_lower_cost'] = (merged_df['SDF_Cost']<merged_df['USDF_Cost']).astype(int)\n",
    "merged_df['SDF_fewer_iterations'] = (merged_df['SDF_Iterations']<merged_df['USDF_Iterations']).astype(int)\n",
    "merged_df['SDF_fewer_collision'] = (merged_df['SDF_NumCollisions']<merged_df['USDF_NumCollisions']).astype(int)\n",
    "\n",
    "merged_df['USDF_lower_cost'] = (merged_df['SDF_Cost']>merged_df['USDF_Cost']).astype(int)\n",
    "merged_df['USDF_fewer_iterations'] = (merged_df['SDF_Iterations']>merged_df['USDF_Iterations']).astype(int)\n",
    "merged_df['USDF_fewer_collision'] = (merged_df['SDF_NumCollisions']>merged_df['USDF_NumCollisions']).astype(int)\n",
    "\n",
    "merged_df_no_filter = merged_df\n",
    "\n",
    "# pre_filter_means = merged_df.mean()\n",
    "# print pre_filter_means['USDF_CollisionFree']\n",
    "# print pre_filter_means['SDF_CollisionFree']"
   ]
  },
  {
   "cell_type": "code",
   "execution_count": 13,
   "metadata": {},
   "outputs": [
    {
     "data": {
      "text/plain": [
       "15300"
      ]
     },
     "execution_count": 13,
     "metadata": {},
     "output_type": "execute_result"
    }
   ],
   "source": [
    "merged_df.shape[0]"
   ]
  },
  {
   "cell_type": "code",
   "execution_count": 14,
   "metadata": {},
   "outputs": [
    {
     "name": "stdout",
     "output_type": "stream",
     "text": [
      "10896\n",
      "10888\n",
      "0.712156862745098\n",
      "0.7116339869281045\n"
     ]
    }
   ],
   "source": [
    "print merged_df['SDF_CollisionFree'].sum()\n",
    "print merged_df['USDF_CollisionFree'].sum()\n",
    "\n",
    "print merged_df['SDF_CollisionFree'].sum().astype(float)/merged_df.shape[0]\n",
    "print merged_df['USDF_CollisionFree'].sum().astype(float)/merged_df.shape[0]"
   ]
  },
  {
   "cell_type": "code",
   "execution_count": 15,
   "metadata": {},
   "outputs": [],
   "source": [
    "# Remove experiments where neither solved for collision free\n",
    "initial_num = merged_df.shape[0]\n",
    "col_free_inds = (merged_df['SDF_CollisionFree'] == 1) | (merged_df['USDF_CollisionFree'] == 1)\n",
    "col_inds = (merged_df['SDF_CollisionFree'] == 0) & (merged_df['USDF_CollisionFree'] == 0)\n",
    "retained_num = sum(col_free_inds)\n",
    "rejected_num = initial_num - retained_num\n",
    "rejected_df = merged_df[col_inds]\n",
    "merged_df = merged_df[col_free_inds]\n",
    "\n",
    "\n",
    "sdf_df = merged_df[merged_df['SDF_CollisionFree'] == 1]\n",
    "usdf_df = merged_df[merged_df['USDF_CollisionFree'] == 1]\n"
   ]
  },
  {
   "cell_type": "markdown",
   "metadata": {},
   "source": [
    "# Iterations"
   ]
  },
  {
   "cell_type": "code",
   "execution_count": 21,
   "metadata": {},
   "outputs": [
    {
     "name": "stdout",
     "output_type": "stream",
     "text": [
      "5.84\n",
      "4.957168794024254\n",
      "5.809803921568627\n",
      "4.908939605020543\n"
     ]
    }
   ],
   "source": [
    "print merged_df_no_filter['USDF_Iterations'].mean()\n",
    "print merged_df_no_filter['USDF_Iterations'].std()\n",
    "\n",
    "print merged_df_no_filter['SDF_Iterations'].mean()\n",
    "print merged_df_no_filter['SDF_Iterations'].std()"
   ]
  },
  {
   "cell_type": "code",
   "execution_count": 22,
   "metadata": {},
   "outputs": [
    {
     "data": {
      "text/plain": [
       "1.005197435032062"
      ]
     },
     "execution_count": 22,
     "metadata": {},
     "output_type": "execute_result"
    }
   ],
   "source": [
    "5.84/5.809803921568627"
   ]
  },
  {
   "cell_type": "markdown",
   "metadata": {},
   "source": [
    "# Collision Free"
   ]
  },
  {
   "cell_type": "code",
   "execution_count": 17,
   "metadata": {},
   "outputs": [
    {
     "name": "stdout",
     "output_type": "stream",
     "text": [
      "0.0009175995595522114\n",
      "0.00018351991191044228\n"
     ]
    }
   ],
   "source": [
    "print (merged_df.shape[0] - merged_df['USDF_CollisionFree'].sum()).astype(float)/merged_df.shape[0]\n",
    "print (merged_df.shape[0] - merged_df['SDF_CollisionFree'].sum()).astype(float)/merged_df.shape[0]\n",
    "# print merged_df['USDF_CollisionFree'].sum().astype(float)/merged_df.shape[0]"
   ]
  },
  {
   "cell_type": "code",
   "execution_count": 20,
   "metadata": {},
   "outputs": [
    {
     "data": {
      "text/plain": [
       "5.0"
      ]
     },
     "execution_count": 20,
     "metadata": {},
     "output_type": "execute_result"
    }
   ],
   "source": [
    "0.0009175995595522114/0.00018351991191044228"
   ]
  },
  {
   "cell_type": "markdown",
   "metadata": {},
   "source": [
    "# Cost"
   ]
  },
  {
   "cell_type": "code",
   "execution_count": 18,
   "metadata": {},
   "outputs": [
    {
     "name": "stdout",
     "output_type": "stream",
     "text": [
      "2.811151976394185\n",
      "14.720534084670057\n",
      "2.7401833250433767\n",
      "11.463227430027972\n"
     ]
    }
   ],
   "source": [
    "print merged_df[merged_df['USDF_CollisionFree'] == 1]['USDF_Cost'].mean()\n",
    "print merged_df[merged_df['USDF_CollisionFree'] == 1]['USDF_Cost'].std()\n",
    "\n",
    "print merged_df[merged_df['SDF_CollisionFree'] == 1]['SDF_Cost'].mean()\n",
    "print merged_df[merged_df['SDF_CollisionFree'] == 1]['SDF_Cost'].std()"
   ]
  },
  {
   "cell_type": "code",
   "execution_count": 23,
   "metadata": {},
   "outputs": [
    {
     "data": {
      "text/plain": [
       "1.0258992348074685"
      ]
     },
     "execution_count": 23,
     "metadata": {},
     "output_type": "execute_result"
    }
   ],
   "source": [
    "2.811151976394185/2.7401833250433767"
   ]
  },
  {
   "cell_type": "code",
   "execution_count": null,
   "metadata": {},
   "outputs": [],
   "source": [
    "print merged_df['SDF_CollisionFree'].sum().astype(float)/merged_df.shape[0]\n",
    "print merged_df['USDF_CollisionFree'].sum().astype(float)/merged_df.shape[0]"
   ]
  },
  {
   "cell_type": "code",
   "execution_count": null,
   "metadata": {
    "scrolled": true
   },
   "outputs": [],
   "source": [
    "sdf_df"
   ]
  },
  {
   "cell_type": "markdown",
   "metadata": {},
   "source": [
    "# Box plot"
   ]
  },
  {
   "cell_type": "code",
   "execution_count": null,
   "metadata": {
    "scrolled": false
   },
   "outputs": [],
   "source": [
    "boxplot = sdf_df.hist(column=['SDF_Cost'])\n"
   ]
  },
  {
   "cell_type": "code",
   "execution_count": null,
   "metadata": {},
   "outputs": [],
   "source": [
    "boxplot = usdf_df.hist(column=['USDF_Cost'])\n"
   ]
  },
  {
   "cell_type": "code",
   "execution_count": null,
   "metadata": {},
   "outputs": [],
   "source": [
    "print sdf_df['SDF_Iterations'].max()\n",
    "print sdf_df['SDF_Iterations'].quantile([0.25,0.5,0.75])\n",
    "print sdf_df['SDF_Iterations'].mean()\n",
    "print sdf_df['SDF_Iterations'].min()\n",
    "print sdf_df['SDF_Iterations'].std()"
   ]
  },
  {
   "cell_type": "code",
   "execution_count": null,
   "metadata": {},
   "outputs": [],
   "source": [
    "# boxplot = sdf_df.boxplot(column=['SDF_Cost'])\n",
    "print usdf_df['USDF_Iterations'].max()\n",
    "print usdf_df['USDF_Iterations'].quantile([0.25,0.5,0.75])\n",
    "print usdf_df['USDF_Iterations'].mean()\n",
    "print usdf_df['USDF_Iterations'].min()\n",
    "print usdf_df['USDF_Iterations'].std()"
   ]
  },
  {
   "cell_type": "markdown",
   "metadata": {},
   "source": [
    "# Cost"
   ]
  },
  {
   "cell_type": "code",
   "execution_count": null,
   "metadata": {},
   "outputs": [],
   "source": [
    "# boxplot = sdf_df.boxplot(column=['SDF_Cost'])\n",
    "print sdf_df['SDF_Cost'].max()\n",
    "print sdf_df['SDF_Cost'].quantile([0.25,0.5,0.75])\n",
    "print sdf_df['SDF_Cost'].mean()\n",
    "print sdf_df['SDF_Cost'].min()\n",
    "\n",
    "print sdf_df['SDF_Cost'].std()"
   ]
  },
  {
   "cell_type": "code",
   "execution_count": null,
   "metadata": {},
   "outputs": [],
   "source": [
    "# boxplot = sdf_df.boxplot(column=['SDF_Cost'])\n",
    "print usdf_df['USDF_Cost'].max()\n",
    "print usdf_df['USDF_Cost'].quantile([0.25,0.5,0.75])\n",
    "print usdf_df['USDF_Cost'].mean()\n",
    "print usdf_df['USDF_Cost'].min()\n",
    "\n",
    "print usdf_df['USDF_Cost'].std()"
   ]
  },
  {
   "cell_type": "code",
   "execution_count": null,
   "metadata": {},
   "outputs": [],
   "source": []
  },
  {
   "cell_type": "code",
   "execution_count": null,
   "metadata": {},
   "outputs": [],
   "source": []
  },
  {
   "cell_type": "code",
   "execution_count": null,
   "metadata": {
    "scrolled": false
   },
   "outputs": [],
   "source": [
    "rejected_df.min()"
   ]
  },
  {
   "cell_type": "code",
   "execution_count": null,
   "metadata": {},
   "outputs": [],
   "source": [
    "rejected_df.max()"
   ]
  },
  {
   "cell_type": "code",
   "execution_count": null,
   "metadata": {},
   "outputs": [],
   "source": [
    "rejected_df.median()"
   ]
  },
  {
   "cell_type": "code",
   "execution_count": null,
   "metadata": {},
   "outputs": [],
   "source": [
    "# import numpy as np \n",
    "# np.where(merged_df['USDF_fewer_collision'])\n",
    "# merged_df[merged_df.index == merged_df.index[557]]"
   ]
  },
  {
   "cell_type": "code",
   "execution_count": null,
   "metadata": {},
   "outputs": [],
   "source": [
    "print \"Num experiments: \" + str(initial_num)\n",
    "print \"Num rejected: \" + str(rejected_num)\n",
    "print \"Num retained: \" + str(retained_num)"
   ]
  },
  {
   "cell_type": "code",
   "execution_count": null,
   "metadata": {},
   "outputs": [],
   "source": [
    "filtered_sum = merged_df.sum()\n",
    "\n",
    "same_num_collisions = retained_num - (filtered_sum['SDF_fewer_collision'] + filtered_sum['USDF_fewer_collision'])\n",
    "same_num_iterations = retained_num - (filtered_sum['SDF_fewer_iterations'] + filtered_sum['USDF_fewer_iterations'])\n",
    "same_num_cost = retained_num - (filtered_sum['SDF_lower_cost'] + filtered_sum['USDF_lower_cost'])\n",
    "\n",
    "\n",
    "filtered_mean = merged_df.mean()\n"
   ]
  },
  {
   "cell_type": "code",
   "execution_count": null,
   "metadata": {},
   "outputs": [],
   "source": [
    "filtered_sum"
   ]
  },
  {
   "cell_type": "markdown",
   "metadata": {},
   "source": [
    "# Visuals"
   ]
  },
  {
   "cell_type": "code",
   "execution_count": null,
   "metadata": {},
   "outputs": [],
   "source": [
    "sum_table_data = [['Fewer Collisions', filtered_sum['USDF_fewer_collision'], same_num_collisions, filtered_sum['SDF_fewer_collision']], # Num fewer collisions\n",
    " ['Fewer Iterations', filtered_sum['USDF_fewer_iterations'], same_num_iterations, filtered_sum['SDF_fewer_iterations']],# Num fewer iterations\n",
    " ['Lower Cost', filtered_sum['USDF_lower_cost'], same_num_cost, filtered_sum['SDF_lower_cost']]# Num fewer iterations\n",
    "] \n",
    "\n",
    "mean_table_data = [['Mean Collisions', filtered_mean['USDF_NumCollisions'], filtered_mean['SDF_NumCollisions']], # Num fewer collisions\n",
    " ['Mean Iterations', filtered_mean['USDF_Iterations'], filtered_mean['SDF_Iterations']],# Num fewer iterations\n",
    " ['Mean Cost', filtered_mean['USDF_Cost'], filtered_mean['SDF_Cost']]# Num fewer iterations\n",
    "] \n"
   ]
  },
  {
   "cell_type": "code",
   "execution_count": null,
   "metadata": {},
   "outputs": [],
   "source": [
    "res_df = pd.DataFrame(sum_table_data, columns=['Metric', 'USDF', 'Tie', 'SDF'])\n",
    "res_df['SDF'] = res_df['SDF'].astype(int)\n",
    "res_df['Tie'] = res_df['Tie'].astype(int)\n",
    "res_df['USDF'] = res_df['USDF'].astype(int)\n",
    "\n",
    "print res_df.to_string(index=False)\n"
   ]
  },
  {
   "cell_type": "code",
   "execution_count": null,
   "metadata": {},
   "outputs": [],
   "source": [
    "res_df = pd.DataFrame(mean_table_data, columns=['Metric', 'USDF', 'SDF'])\n",
    "\n",
    "print res_df.to_string(index=False)\n"
   ]
  },
  {
   "cell_type": "code",
   "execution_count": null,
   "metadata": {},
   "outputs": [],
   "source": [
    "# Set figure params\n",
    "\n",
    "font = {'weight' : 'normal',\n",
    "        'size'   : 18}\n",
    "\n",
    "matplotlib.rc('font', **font)\n",
    "\n",
    "# plt.figure(1);\n",
    "# fig, ax = plt.subplots(figsize=(8, 6), dpi=300,)    \n",
    "fig, ax = plt.subplots()    \n",
    "plt.bar(1, filtered_sum['SDF_fewer_collision']\n",
    ", width=0.02, color='tab:blue', align='center', label='SDF')\n",
    "plt.bar(1.1, filtered_sum['USDF_fewer_collision']\n",
    ", width=0.02, color='tab:red', align='center', label='USDF')\n",
    "\n",
    "plt.bar(1.5, filtered_sum['SDF_fewer_iterations']\n",
    ", width=0.02, color='tab:blue', align='center')\n",
    "plt.bar(1.6, filtered_sum['USDF_fewer_iterations']\n",
    ", width=0.02, color='tab:red', align='center')\n",
    "\n",
    "plt.xlabel(\"\", fontsize=20)\n",
    "plt.ylabel(\"\", fontsize=20)\n",
    "# leg = plt.legend(bbox_to_anchor=(0., 1.02, 1., .102), loc='lower left',\n",
    "#            ncol=2, mode=\"expand\", borderaxespad=0., fontsize=17, handletextpad=-0.6)\n",
    "\n",
    "leg = plt.legend(bbox_to_anchor=(0., 1.02, 1., .102), loc='lower left',\n",
    "           ncol=2, mode=\"expand\", borderaxespad=0., fontsize=17)\n",
    "\n",
    "# for handle in leg.legendHandles:\n",
    "#     handle.set_width(15.0)\n",
    "# plt.ylim([0,550])\n",
    "# plt.xlim([0.95,2.05])\n",
    "# plt.savefig('.png', dpi=300)\n",
    "plt.show()"
   ]
  },
  {
   "cell_type": "code",
   "execution_count": null,
   "metadata": {},
   "outputs": [],
   "source": []
  }
 ],
 "metadata": {
  "kernelspec": {
   "display_name": "Python 2",
   "language": "python",
   "name": "python2"
  },
  "language_info": {
   "codemirror_mode": {
    "name": "ipython",
    "version": 2
   },
   "file_extension": ".py",
   "mimetype": "text/x-python",
   "name": "python",
   "nbconvert_exporter": "python",
   "pygments_lexer": "ipython2",
   "version": "2.7.17"
  }
 },
 "nbformat": 4,
 "nbformat_minor": 2
}
