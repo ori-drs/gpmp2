{
 "cells": [
  {
   "cell_type": "code",
   "execution_count": 44,
   "metadata": {},
   "outputs": [],
   "source": [
    "%matplotlib notebook\n",
    "import pandas as pd\n",
    "import numpy as np\n",
    "import matplotlib.pyplot as plt\n",
    "import matplotlib"
   ]
  },
  {
   "cell_type": "code",
   "execution_count": 45,
   "metadata": {},
   "outputs": [],
   "source": [
    "filename = '/home/mark/installs/gpmp2/mark_gpmp2/usdf_comparison/arm_results.csv'"
   ]
  },
  {
   "cell_type": "code",
   "execution_count": 46,
   "metadata": {
    "scrolled": true
   },
   "outputs": [],
   "source": [
    "df = pd.read_csv(filename,\n",
    "                 header=None,\n",
    "                 names=['Config', 'Environment', 'USDF_SDF', 'Cost', 'NumCollisions', 'Iterations'])\n",
    "\n",
    "# Check whether trajectory is collision-free\n",
    "df['CollisionFree'] = (df['NumCollisions']==0).astype(int)\n",
    "\n",
    "\n",
    "sdf_df = df[df['USDF_SDF'] == 1]\n",
    "sdf_df = sdf_df[['Cost', 'NumCollisions', 'Iterations', 'CollisionFree']]\n",
    "sdf_df = sdf_df.rename(columns={\"Cost\": \"SDF_Cost\", \n",
    "                                \"NumCollisions\": \"SDF_NumCollisions\", \n",
    "                                \"Iterations\": \"SDF_Iterations\",\n",
    "                                \"CollisionFree\": \"SDF_CollisionFree\"})\n",
    "\n",
    "usdf_df = df[df['USDF_SDF'] == 0]\n",
    "usdf_df.index = usdf_df.index + 1\n",
    "usdf_df = usdf_df[['Cost', 'NumCollisions', 'Iterations', 'CollisionFree']]\n",
    "usdf_df = usdf_df.rename(columns={\"Cost\": \"USDF_Cost\", \n",
    "                                  \"NumCollisions\": \"USDF_NumCollisions\", \n",
    "                                  \"Iterations\": \"USDF_Iterations\",\n",
    "                                  \"CollisionFree\": \"USDF_CollisionFree\"})"
   ]
  },
  {
   "cell_type": "code",
   "execution_count": 47,
   "metadata": {},
   "outputs": [
    {
     "data": {
      "text/html": [
       "<div>\n",
       "<style scoped>\n",
       "    .dataframe tbody tr th:only-of-type {\n",
       "        vertical-align: middle;\n",
       "    }\n",
       "\n",
       "    .dataframe tbody tr th {\n",
       "        vertical-align: top;\n",
       "    }\n",
       "\n",
       "    .dataframe thead th {\n",
       "        text-align: right;\n",
       "    }\n",
       "</style>\n",
       "<table border=\"1\" class=\"dataframe\">\n",
       "  <thead>\n",
       "    <tr style=\"text-align: right;\">\n",
       "      <th></th>\n",
       "      <th>Config</th>\n",
       "      <th>Environment</th>\n",
       "      <th>USDF_SDF</th>\n",
       "      <th>Cost</th>\n",
       "      <th>NumCollisions</th>\n",
       "      <th>Iterations</th>\n",
       "      <th>CollisionFree</th>\n",
       "    </tr>\n",
       "  </thead>\n",
       "  <tbody>\n",
       "    <tr>\n",
       "      <th>1491</th>\n",
       "      <td>8</td>\n",
       "      <td>46</td>\n",
       "      <td>1</td>\n",
       "      <td>0.955968</td>\n",
       "      <td>0</td>\n",
       "      <td>2</td>\n",
       "      <td>1</td>\n",
       "    </tr>\n",
       "    <tr>\n",
       "      <th>1492</th>\n",
       "      <td>8</td>\n",
       "      <td>47</td>\n",
       "      <td>0</td>\n",
       "      <td>0.955968</td>\n",
       "      <td>0</td>\n",
       "      <td>2</td>\n",
       "      <td>1</td>\n",
       "    </tr>\n",
       "    <tr>\n",
       "      <th>1493</th>\n",
       "      <td>8</td>\n",
       "      <td>47</td>\n",
       "      <td>1</td>\n",
       "      <td>0.955968</td>\n",
       "      <td>0</td>\n",
       "      <td>2</td>\n",
       "      <td>1</td>\n",
       "    </tr>\n",
       "    <tr>\n",
       "      <th>1494</th>\n",
       "      <td>8</td>\n",
       "      <td>48</td>\n",
       "      <td>0</td>\n",
       "      <td>0.955968</td>\n",
       "      <td>0</td>\n",
       "      <td>2</td>\n",
       "      <td>1</td>\n",
       "    </tr>\n",
       "    <tr>\n",
       "      <th>1495</th>\n",
       "      <td>8</td>\n",
       "      <td>48</td>\n",
       "      <td>1</td>\n",
       "      <td>0.955968</td>\n",
       "      <td>0</td>\n",
       "      <td>2</td>\n",
       "      <td>1</td>\n",
       "    </tr>\n",
       "    <tr>\n",
       "      <th>1496</th>\n",
       "      <td>8</td>\n",
       "      <td>49</td>\n",
       "      <td>0</td>\n",
       "      <td>46.807748</td>\n",
       "      <td>0</td>\n",
       "      <td>19</td>\n",
       "      <td>1</td>\n",
       "    </tr>\n",
       "    <tr>\n",
       "      <th>1497</th>\n",
       "      <td>8</td>\n",
       "      <td>49</td>\n",
       "      <td>1</td>\n",
       "      <td>46.807748</td>\n",
       "      <td>0</td>\n",
       "      <td>19</td>\n",
       "      <td>1</td>\n",
       "    </tr>\n",
       "    <tr>\n",
       "      <th>1498</th>\n",
       "      <td>8</td>\n",
       "      <td>50</td>\n",
       "      <td>0</td>\n",
       "      <td>0.955968</td>\n",
       "      <td>0</td>\n",
       "      <td>2</td>\n",
       "      <td>1</td>\n",
       "    </tr>\n",
       "    <tr>\n",
       "      <th>1499</th>\n",
       "      <td>8</td>\n",
       "      <td>50</td>\n",
       "      <td>1</td>\n",
       "      <td>0.955968</td>\n",
       "      <td>0</td>\n",
       "      <td>2</td>\n",
       "      <td>1</td>\n",
       "    </tr>\n",
       "  </tbody>\n",
       "</table>\n",
       "</div>"
      ],
      "text/plain": [
       "      Config  Environment  USDF_SDF       Cost  NumCollisions  Iterations  \\\n",
       "1491       8           46         1   0.955968              0           2   \n",
       "1492       8           47         0   0.955968              0           2   \n",
       "1493       8           47         1   0.955968              0           2   \n",
       "1494       8           48         0   0.955968              0           2   \n",
       "1495       8           48         1   0.955968              0           2   \n",
       "1496       8           49         0  46.807748              0          19   \n",
       "1497       8           49         1  46.807748              0          19   \n",
       "1498       8           50         0   0.955968              0           2   \n",
       "1499       8           50         1   0.955968              0           2   \n",
       "\n",
       "      CollisionFree  \n",
       "1491              1  \n",
       "1492              1  \n",
       "1493              1  \n",
       "1494              1  \n",
       "1495              1  \n",
       "1496              1  \n",
       "1497              1  \n",
       "1498              1  \n",
       "1499              1  "
      ]
     },
     "execution_count": 47,
     "metadata": {},
     "output_type": "execute_result"
    }
   ],
   "source": [
    "df[(df.index > 1490) & (df.index <1500)]"
   ]
  },
  {
   "cell_type": "code",
   "execution_count": 48,
   "metadata": {},
   "outputs": [],
   "source": [
    "merged_df = sdf_df.join(usdf_df, lsuffix='_caller', rsuffix='_other')"
   ]
  },
  {
   "cell_type": "code",
   "execution_count": 49,
   "metadata": {},
   "outputs": [],
   "source": [
    "merged_df['SDF_lower_cost'] = (merged_df['SDF_Cost']<merged_df['USDF_Cost']).astype(int)\n",
    "merged_df['SDF_fewer_iterations'] = (merged_df['SDF_Iterations']<merged_df['USDF_Iterations']).astype(int)\n",
    "merged_df['SDF_fewer_collision'] = (merged_df['SDF_NumCollisions']<merged_df['USDF_NumCollisions']).astype(int)\n",
    "\n",
    "merged_df['USDF_lower_cost'] = (merged_df['SDF_Cost']>merged_df['USDF_Cost']).astype(int)\n",
    "merged_df['USDF_fewer_iterations'] = (merged_df['SDF_Iterations']>merged_df['USDF_Iterations']).astype(int)\n",
    "merged_df['USDF_fewer_collision'] = (merged_df['SDF_NumCollisions']>merged_df['USDF_NumCollisions']).astype(int)\n",
    "\n",
    "merged_df_no_filter = merged_df\n",
    "\n",
    "# pre_filter_means = merged_df.mean()\n",
    "# print pre_filter_means['USDF_CollisionFree']\n",
    "# print pre_filter_means['SDF_CollisionFree']"
   ]
  },
  {
   "cell_type": "code",
   "execution_count": 50,
   "metadata": {},
   "outputs": [
    {
     "data": {
      "text/plain": [
       "15300"
      ]
     },
     "execution_count": 50,
     "metadata": {},
     "output_type": "execute_result"
    }
   ],
   "source": [
    "num_results = merged_df.shape[0]\n",
    "num_results"
   ]
  },
  {
   "cell_type": "code",
   "execution_count": 51,
   "metadata": {},
   "outputs": [],
   "source": [
    "# Remove experiments where neither solved for collision free\n",
    "initial_num = merged_df.shape[0]\n",
    "col_free_inds = (merged_df['SDF_CollisionFree'] == 1) | (merged_df['USDF_CollisionFree'] == 1)\n",
    "col_inds = (merged_df['SDF_CollisionFree'] == 0) & (merged_df['USDF_CollisionFree'] == 0)\n",
    "retained_num = sum(col_free_inds)\n",
    "rejected_num = initial_num - retained_num\n",
    "rejected_df = merged_df[col_inds]\n",
    "merged_df = merged_df[col_free_inds]\n",
    "num_retained_results = merged_df.shape[0]\n",
    "\n",
    "\n",
    "sdf_df = merged_df[merged_df['SDF_CollisionFree'] == 1]\n",
    "usdf_df = merged_df[merged_df['USDF_CollisionFree'] == 1]\n"
   ]
  },
  {
   "cell_type": "markdown",
   "metadata": {},
   "source": [
    "# Collision Free"
   ]
  },
  {
   "cell_type": "code",
   "execution_count": 52,
   "metadata": {},
   "outputs": [
    {
     "name": "stdout",
     "output_type": "stream",
     "text": [
      "0.00017551557700745942\n",
      "8.775778850372971e-05\n"
     ]
    }
   ],
   "source": [
    "print (merged_df.shape[0] - merged_df['USDF_CollisionFree'].sum()).astype(float)/merged_df.shape[0]\n",
    "print (merged_df.shape[0] - merged_df['SDF_CollisionFree'].sum()).astype(float)/merged_df.shape[0]\n",
    "# print merged_df['USDF_CollisionFree'].sum().astype(float)/merged_df.shape[0]"
   ]
  },
  {
   "cell_type": "markdown",
   "metadata": {},
   "source": [
    "# Iterations"
   ]
  },
  {
   "cell_type": "code",
   "execution_count": 54,
   "metadata": {},
   "outputs": [
    {
     "name": "stdout",
     "output_type": "stream",
     "text": [
      "6.37156862745098\n",
      "6.18797385620915\n",
      "8.96218983364836\n",
      "7.996581510247092\n"
     ]
    }
   ],
   "source": [
    "print merged_df_no_filter['USDF_Iterations'].mean()\n",
    "print merged_df_no_filter['SDF_Iterations'].mean()\n",
    "\n",
    "print merged_df_no_filter['USDF_Iterations'].std()\n",
    "print merged_df_no_filter['SDF_Iterations'].std()"
   ]
  },
  {
   "cell_type": "markdown",
   "metadata": {},
   "source": [
    "# Cost "
   ]
  },
  {
   "cell_type": "code",
   "execution_count": 13,
   "metadata": {},
   "outputs": [
    {
     "name": "stdout",
     "output_type": "stream",
     "text": [
      "11.71990354021008\n",
      "52.74810666691407\n",
      "11.763437562179158\n",
      "52.769037544259824\n"
     ]
    }
   ],
   "source": [
    "print merged_df[merged_df['USDF_CollisionFree'] == 1]['USDF_Cost'].mean()\n",
    "print merged_df[merged_df['USDF_CollisionFree'] == 1]['USDF_Cost'].std()\n",
    "\n",
    "print merged_df[merged_df['SDF_CollisionFree'] == 1]['SDF_Cost'].mean()\n",
    "print merged_df[merged_df['SDF_CollisionFree'] == 1]['SDF_Cost'].std()"
   ]
  },
  {
   "cell_type": "code",
   "execution_count": null,
   "metadata": {},
   "outputs": [],
   "source": []
  }
 ],
 "metadata": {
  "kernelspec": {
   "display_name": "Python 2",
   "language": "python",
   "name": "python2"
  },
  "language_info": {
   "codemirror_mode": {
    "name": "ipython",
    "version": 2
   },
   "file_extension": ".py",
   "mimetype": "text/x-python",
   "name": "python",
   "nbconvert_exporter": "python",
   "pygments_lexer": "ipython2",
   "version": "2.7.17"
  }
 },
 "nbformat": 4,
 "nbformat_minor": 2
}
